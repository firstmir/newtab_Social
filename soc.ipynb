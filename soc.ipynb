{
 "cells": [
  {
   "cell_type": "code",
   "execution_count": 1,
   "metadata": {},
   "outputs": [],
   "source": [
    "import webbrowser\n",
    "import time\n",
    "\n",
    "\n",
    "# what's new\n",
    "links = [\n",
    "    'https://www.facebook.com/',\n",
    "    'https://twitter.com/',\n",
    "    'https://www.linkedin.com',\n",
    "    'https://www.tiktok.com/en/'\n",
    "    ]\n",
    "\n",
    "for i in links:\n",
    "    webbrowser.open_new_tab(i)\n",
    "    # give time to load the page\n",
    "    time.sleep(5)"
   ]
  }
 ],
 "metadata": {
  "kernelspec": {
   "display_name": "Python 3.9.12 ('base')",
   "language": "python",
   "name": "python3"
  },
  "language_info": {
   "codemirror_mode": {
    "name": "ipython",
    "version": 3
   },
   "file_extension": ".py",
   "mimetype": "text/x-python",
   "name": "python",
   "nbconvert_exporter": "python",
   "pygments_lexer": "ipython3",
   "version": "3.9.12"
  },
  "orig_nbformat": 4,
  "vscode": {
   "interpreter": {
    "hash": "4d8425f0eb7a677682671d46cfc51676bd2a8aaca89e67badc9490436a46fc40"
   }
  }
 },
 "nbformat": 4,
 "nbformat_minor": 2
}
